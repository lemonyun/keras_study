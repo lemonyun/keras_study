{
  "nbformat": 4,
  "nbformat_minor": 0,
  "metadata": {
    "colab": {
      "name": "7.3.ipynb",
      "provenance": [],
      "collapsed_sections": [],
      "authorship_tag": "ABX9TyMebeR4utH9uttjSq5Q3dxD",
      "include_colab_link": true
    },
    "kernelspec": {
      "name": "python3",
      "display_name": "Python 3"
    },
    "language_info": {
      "name": "python"
    }
  },
  "cells": [
    {
      "cell_type": "markdown",
      "metadata": {
        "id": "view-in-github",
        "colab_type": "text"
      },
      "source": [
        "<a href=\"https://colab.research.google.com/github/lemonyun/keras_study/blob/main/7_3.ipynb\" target=\"_parent\"><img src=\"https://colab.research.google.com/assets/colab-badge.svg\" alt=\"Open In Colab\"/></a>"
      ]
    },
    {
      "cell_type": "markdown",
      "source": [
        "# 고급 구조패턴"
      ],
      "metadata": {
        "id": "8P0nd5q5LyHp"
      }
    },
    {
      "cell_type": "markdown",
      "source": [
        "배치 정규화\n"
      ],
      "metadata": {
        "id": "CP55e_Z_M4GV"
      }
    },
    {
      "cell_type": "markdown",
      "source": [
        "모델에 데이터를 주입하기 전에 평균을 빼고 표준편차로 나누는 작업을 하는것이 정규화 인데, 네트워크에서 일어나는 변환에 따라 평균 0 분산 1이 깨질 수 있음\n",
        "\n",
        "합성곱 층이나 완전 연결층 바로 뒤에 BatchNormalization 층을 사용하면 정규화를 지속적으로 도와줌\n",
        "\n",
        "그래디언트가 잘 전파되도록 도와줌\n"
      ],
      "metadata": {
        "id": "8pXsUnnoNCaE"
      }
    },
    {
      "cell_type": "markdown",
      "source": [
        "깊이별 분리 합성곱 (SeparableConv2D)"
      ],
      "metadata": {
        "id": "-NVKsad8N87u"
      }
    },
    {
      "cell_type": "markdown",
      "source": [
        "#하이퍼파라미터 최적화"
      ],
      "metadata": {
        "id": "6cu1O3w8M-T6"
      }
    },
    {
      "cell_type": "markdown",
      "source": [
        "하이퍼파라미터 선택 알고리즘\n",
        "1. 베이지안 최적화\n",
        "2. 유전 알고리즘\n",
        "3. 간단한 랜덤 탐색\n",
        "\n",
        "2018년 당시에는 하이퍼파라미터 최적화 분야가 발달이 덜되어있음"
      ],
      "metadata": {
        "id": "14yHjJs8N4oK"
      }
    },
    {
      "cell_type": "markdown",
      "source": [
        "# 모델 앙상블"
      ],
      "metadata": {
        "id": "wIy6kE4vNBHq"
      }
    },
    {
      "cell_type": "markdown",
      "source": [
        "모델 여러개 예측 평균 낸거\n",
        "\n",
        "최대한 다른 종류의 네트워크를 가지는 좋은 모델 여러개를 앙상블 하는게 좋음"
      ],
      "metadata": {
        "id": "Z4VCl9lPRM2v"
      }
    },
    {
      "cell_type": "code",
      "source": [
        ""
      ],
      "metadata": {
        "id": "t3xb2IYTP2rS"
      },
      "execution_count": null,
      "outputs": []
    }
  ]
}