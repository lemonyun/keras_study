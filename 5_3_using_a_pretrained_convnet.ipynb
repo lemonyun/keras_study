{
  "nbformat": 4,
  "nbformat_minor": 0,
  "metadata": {
    "colab": {
      "name": "5.3-using-a-pretrained-convnet.ipynb",
      "provenance": [],
      "collapsed_sections": [],
      "authorship_tag": "ABX9TyNCEv8bsUD1j2OuCCEs+IRy",
      "include_colab_link": true
    },
    "kernelspec": {
      "name": "python3",
      "display_name": "Python 3"
    },
    "language_info": {
      "name": "python"
    },
    "accelerator": "GPU"
  },
  "cells": [
    {
      "cell_type": "markdown",
      "metadata": {
        "id": "view-in-github",
        "colab_type": "text"
      },
      "source": [
        "<a href=\"https://colab.research.google.com/github/lemonyun/keras_study/blob/main/5_3_using_a_pretrained_convnet.ipynb\" target=\"_parent\"><img src=\"https://colab.research.google.com/assets/colab-badge.svg\" alt=\"Open In Colab\"/></a>"
      ]
    },
    {
      "cell_type": "markdown",
      "source": [
        "#사전 훈련된 네트워크 사용하기\n",
        "학습된 특성을 다른 문제에 적용할 수 있는 유연성은 이전의 많은 얕은 학습 방법과 비교했을 때 딥러닝의 핵심 장점입니다.\n",
        "사전 훈련된 네트워크를 사용하는 두 가지 방법\n",
        "1. 특성 추출\n",
        "2. 미세 조정"
      ],
      "metadata": {
        "id": "z8r0bhExvP0F"
      }
    },
    {
      "cell_type": "markdown",
      "source": [
        "특성 추출의 경우 사전에 훈련된 네트워크의 합성곱 기반층을 선택해 새로운 데이터를 통과시키고 그 출력으로 새로운 분류기를 훈련\n",
        "\n",
        "완전 연결 분류기를 바꾸는 느낌"
      ],
      "metadata": {
        "id": "ZgjIPd6bvfJX"
      }
    },
    {
      "cell_type": "markdown",
      "source": [
        "합성곱 층에 의해 학습된 표현이 더 일반적이어서 재사용 가능하기 때문입니다. 컨브넷의 특성 맵은 사진에 대한 일반적인 컨셉의 존재 여부를 기록한 맵입니다. 그래서 주어진 컴퓨터 비전 문제에 상관없이 유용하게 사용할 수 있습니다. 하지만 분류기에서 학습한 표현은 모델이 훈련된 클래스 집합에 특화되어 있습니다."
      ],
      "metadata": {
        "id": "7tcotoaqv7YA"
      }
    },
    {
      "cell_type": "markdown",
      "source": [
        "ImageNet 데이터셋에 훈련된 VGG16 네트워크의 합성곱 기반층을 사용하여 강아지와 고양이 이미지에서 유용한 특성을 추출해 보겠습니다."
      ],
      "metadata": {
        "id": "mrQTYpx9wLFV"
      }
    },
    {
      "cell_type": "code",
      "source": [
        "from tensorflow.keras.applications import VGG16\n",
        "\n",
        "conv_base = VGG16(weights='imagenet',\n",
        "                  include_top=False,\n",
        "                  input_shape=(150, 150, 3))"
      ],
      "metadata": {
        "colab": {
          "base_uri": "https://localhost:8080/"
        },
        "id": "MMx97z4uwg5L",
        "outputId": "5293e3a9-b17b-4f94-e59f-ede1385a5b22"
      },
      "execution_count": 1,
      "outputs": [
        {
          "output_type": "stream",
          "name": "stdout",
          "text": [
            "Downloading data from https://storage.googleapis.com/tensorflow/keras-applications/vgg16/vgg16_weights_tf_dim_ordering_tf_kernels_notop.h5\n",
            "58892288/58889256 [==============================] - 1s 0us/step\n",
            "58900480/58889256 [==============================] - 1s 0us/step\n"
          ]
        }
      ]
    },
    {
      "cell_type": "code",
      "source": [
        "conv_base.summary()"
      ],
      "metadata": {
        "colab": {
          "base_uri": "https://localhost:8080/"
        },
        "id": "zEyB2Mf6wjCu",
        "outputId": "fc87f039-f3eb-4c94-b350-c6ddf984a492"
      },
      "execution_count": 2,
      "outputs": [
        {
          "output_type": "stream",
          "name": "stdout",
          "text": [
            "Model: \"vgg16\"\n",
            "_________________________________________________________________\n",
            " Layer (type)                Output Shape              Param #   \n",
            "=================================================================\n",
            " input_1 (InputLayer)        [(None, 150, 150, 3)]     0         \n",
            "                                                                 \n",
            " block1_conv1 (Conv2D)       (None, 150, 150, 64)      1792      \n",
            "                                                                 \n",
            " block1_conv2 (Conv2D)       (None, 150, 150, 64)      36928     \n",
            "                                                                 \n",
            " block1_pool (MaxPooling2D)  (None, 75, 75, 64)        0         \n",
            "                                                                 \n",
            " block2_conv1 (Conv2D)       (None, 75, 75, 128)       73856     \n",
            "                                                                 \n",
            " block2_conv2 (Conv2D)       (None, 75, 75, 128)       147584    \n",
            "                                                                 \n",
            " block2_pool (MaxPooling2D)  (None, 37, 37, 128)       0         \n",
            "                                                                 \n",
            " block3_conv1 (Conv2D)       (None, 37, 37, 256)       295168    \n",
            "                                                                 \n",
            " block3_conv2 (Conv2D)       (None, 37, 37, 256)       590080    \n",
            "                                                                 \n",
            " block3_conv3 (Conv2D)       (None, 37, 37, 256)       590080    \n",
            "                                                                 \n",
            " block3_pool (MaxPooling2D)  (None, 18, 18, 256)       0         \n",
            "                                                                 \n",
            " block4_conv1 (Conv2D)       (None, 18, 18, 512)       1180160   \n",
            "                                                                 \n",
            " block4_conv2 (Conv2D)       (None, 18, 18, 512)       2359808   \n",
            "                                                                 \n",
            " block4_conv3 (Conv2D)       (None, 18, 18, 512)       2359808   \n",
            "                                                                 \n",
            " block4_pool (MaxPooling2D)  (None, 9, 9, 512)         0         \n",
            "                                                                 \n",
            " block5_conv1 (Conv2D)       (None, 9, 9, 512)         2359808   \n",
            "                                                                 \n",
            " block5_conv2 (Conv2D)       (None, 9, 9, 512)         2359808   \n",
            "                                                                 \n",
            " block5_conv3 (Conv2D)       (None, 9, 9, 512)         2359808   \n",
            "                                                                 \n",
            " block5_pool (MaxPooling2D)  (None, 4, 4, 512)         0         \n",
            "                                                                 \n",
            "=================================================================\n",
            "Total params: 14,714,688\n",
            "Trainable params: 14,714,688\n",
            "Non-trainable params: 0\n",
            "_________________________________________________________________\n"
          ]
        }
      ]
    },
    {
      "cell_type": "markdown",
      "source": [
        "두 가지 방식이 가능\n",
        "1. 새로운 데이터셋에서 합성곱 기반층을 실행하고 출력을 넘파이 배열로 디스크에 저장합니다. 하지만 데이터 증식을 사용할 수 없음\n",
        "\n",
        "2. 준비한 모델(conv_base) 위에 Dense 층을 쌓아 확장합니다. 그다음 입력 데이터에서 엔드 투 엔드로 전체 모델을 실행합니다. 모델에 노출된 모든 입력 이미지가 매번 합성곱 기반층을 통과하기 때문에 데이터 증식을 사용할 수 있습니다. 하지만 이런 이유로 이 방식은 첫 번째 방식보다 훨씬 비용이 많이 듭니다.\n"
      ],
      "metadata": {
        "id": "XWeKosuaxbVq"
      }
    },
    {
      "cell_type": "markdown",
      "source": [
        "##첫 번째 방식"
      ],
      "metadata": {
        "id": "-xxAeWMwyQzz"
      }
    },
    {
      "cell_type": "code",
      "source": [
        "from google.colab import drive\n",
        "drive.mount('/content/gdrive')"
      ],
      "metadata": {
        "colab": {
          "base_uri": "https://localhost:8080/"
        },
        "id": "tkmKf5wjyaA6",
        "outputId": "3a957089-e84f-4591-980b-d5eb4336452f"
      },
      "execution_count": 3,
      "outputs": [
        {
          "output_type": "stream",
          "name": "stdout",
          "text": [
            "Mounted at /content/gdrive\n"
          ]
        }
      ]
    },
    {
      "cell_type": "markdown",
      "source": [
        "ImageDataGenerator를 사용해 이미지와 레이블을 넘파이 배열로 추출하겠습니다. conv_base 모델의 predict 메서드를 호출하여 이 이미지에서 특성을 추출합니다."
      ],
      "metadata": {
        "id": "4M307LrM9ORh"
      }
    },
    {
      "cell_type": "code",
      "source": [
        "import os\n",
        "import numpy as np\n",
        "from keras.preprocessing.image import ImageDataGenerator\n",
        "\n",
        "base_dir = './gdrive/MyDrive/cats_and_dogs_small'\n",
        "\n",
        "train_dir = os.path.join(base_dir, 'train')\n",
        "validation_dir = os.path.join(base_dir, 'validation')\n",
        "test_dir = os.path.join(base_dir, 'test')\n",
        "\n",
        "datagen = ImageDataGenerator(rescale=1./255)\n",
        "batch_size = 20\n",
        "\n",
        "def extract_features(directory, sample_count):\n",
        "    features = np.zeros(shape=(sample_count, 4, 4, 512))\n",
        "    labels = np.zeros(shape=(sample_count))\n",
        "    generator = datagen.flow_from_directory(\n",
        "        directory,\n",
        "        target_size=(150, 150),\n",
        "        batch_size=batch_size,\n",
        "        class_mode='binary')\n",
        "    i = 0\n",
        "    for inputs_batch, labels_batch in generator:\n",
        "        features_batch = conv_base.predict(inputs_batch)\n",
        "        features[i * batch_size : (i + 1) * batch_size] = features_batch\n",
        "        labels[i * batch_size : (i + 1) * batch_size] = labels_batch\n",
        "        i += 1\n",
        "        if i * batch_size >= sample_count:\n",
        "            # 제너레이터는 루프 안에서 무한하게 데이터를 만들어내므로 모든 이미지를 한 번씩 처리하고 나면 중지합니다\n",
        "            break\n",
        "    return features, labels\n",
        "\n",
        "train_features, train_labels = extract_features(train_dir, 2000)\n",
        "validation_features, validation_labels = extract_features(validation_dir, 1000)\n",
        "test_features, test_labels = extract_features(test_dir, 1000)"
      ],
      "metadata": {
        "colab": {
          "base_uri": "https://localhost:8080/"
        },
        "id": "l4bsMeAJyTFc",
        "outputId": "5cfb9e81-afc8-4085-d630-37d4f7ca0ec6"
      },
      "execution_count": 4,
      "outputs": [
        {
          "output_type": "stream",
          "name": "stdout",
          "text": [
            "Found 2000 images belonging to 2 classes.\n",
            "Found 1000 images belonging to 2 classes.\n",
            "Found 1000 images belonging to 2 classes.\n"
          ]
        }
      ]
    },
    {
      "cell_type": "code",
      "source": [
        "train_features = np.reshape(train_features, (2000, 4 * 4 * 512))\n",
        "validation_features = np.reshape(validation_features, (1000, 4 * 4 * 512))\n",
        "test_features = np.reshape(test_features, (1000, 4 * 4 * 512))"
      ],
      "metadata": {
        "id": "GgvpzMTbylI6"
      },
      "execution_count": 5,
      "outputs": []
    },
    {
      "cell_type": "markdown",
      "source": [
        "두 개의 Dense 층만 처리하면 되기 때문에 훈련이 매우 빠릅니다. CPU를 사용하더라도 한 에포크에 걸리는 시간이 1초 미만입니다."
      ],
      "metadata": {
        "id": "y7Oy1UDO9sMC"
      }
    },
    {
      "cell_type": "code",
      "source": [
        "from keras import models\n",
        "from keras import layers\n",
        "from tensorflow.keras import optimizers\n",
        "\n",
        "model = models.Sequential()\n",
        "model.add(layers.Dense(256, activation='relu', input_dim=4 * 4 * 512))\n",
        "model.add(layers.Dropout(0.5))\n",
        "model.add(layers.Dense(1, activation='sigmoid'))\n",
        "\n",
        "model.compile(optimizer=optimizers.RMSprop(learning_rate=2e-5),\n",
        "              loss='binary_crossentropy',\n",
        "              metrics=['acc'])\n",
        "\n",
        "history = model.fit(train_features, train_labels,\n",
        "                    epochs=30,\n",
        "                    batch_size=20,\n",
        "                    validation_data=(validation_features, validation_labels))"
      ],
      "metadata": {
        "colab": {
          "base_uri": "https://localhost:8080/"
        },
        "id": "4hhNQTLz9L3r",
        "outputId": "096af8ff-059f-4020-8f06-a53f2233e325"
      },
      "execution_count": 8,
      "outputs": [
        {
          "output_type": "stream",
          "name": "stdout",
          "text": [
            "Epoch 1/30\n",
            "100/100 [==============================] - 1s 6ms/step - loss: 0.6048 - acc: 0.6770 - val_loss: 0.4423 - val_acc: 0.8270\n",
            "Epoch 2/30\n",
            "100/100 [==============================] - 0s 4ms/step - loss: 0.4244 - acc: 0.8075 - val_loss: 0.3601 - val_acc: 0.8760\n",
            "Epoch 3/30\n",
            "100/100 [==============================] - 0s 5ms/step - loss: 0.3589 - acc: 0.8475 - val_loss: 0.3299 - val_acc: 0.8720\n",
            "Epoch 4/30\n",
            "100/100 [==============================] - 0s 5ms/step - loss: 0.3088 - acc: 0.8720 - val_loss: 0.2981 - val_acc: 0.8860\n",
            "Epoch 5/30\n",
            "100/100 [==============================] - 0s 5ms/step - loss: 0.2854 - acc: 0.8855 - val_loss: 0.2814 - val_acc: 0.8870\n",
            "Epoch 6/30\n",
            "100/100 [==============================] - 0s 4ms/step - loss: 0.2680 - acc: 0.8950 - val_loss: 0.2695 - val_acc: 0.8920\n",
            "Epoch 7/30\n",
            "100/100 [==============================] - 0s 5ms/step - loss: 0.2413 - acc: 0.9060 - val_loss: 0.2604 - val_acc: 0.8930\n",
            "Epoch 8/30\n",
            "100/100 [==============================] - 0s 5ms/step - loss: 0.2314 - acc: 0.9125 - val_loss: 0.2541 - val_acc: 0.8940\n",
            "Epoch 9/30\n",
            "100/100 [==============================] - 0s 5ms/step - loss: 0.2130 - acc: 0.9210 - val_loss: 0.2596 - val_acc: 0.8930\n",
            "Epoch 10/30\n",
            "100/100 [==============================] - 0s 5ms/step - loss: 0.2042 - acc: 0.9210 - val_loss: 0.2529 - val_acc: 0.8910\n",
            "Epoch 11/30\n",
            "100/100 [==============================] - 0s 5ms/step - loss: 0.1895 - acc: 0.9310 - val_loss: 0.2450 - val_acc: 0.8990\n",
            "Epoch 12/30\n",
            "100/100 [==============================] - 0s 4ms/step - loss: 0.1824 - acc: 0.9335 - val_loss: 0.2457 - val_acc: 0.9000\n",
            "Epoch 13/30\n",
            "100/100 [==============================] - 0s 4ms/step - loss: 0.1773 - acc: 0.9385 - val_loss: 0.2374 - val_acc: 0.9000\n",
            "Epoch 14/30\n",
            "100/100 [==============================] - 0s 4ms/step - loss: 0.1704 - acc: 0.9385 - val_loss: 0.2417 - val_acc: 0.9000\n",
            "Epoch 15/30\n",
            "100/100 [==============================] - 0s 4ms/step - loss: 0.1614 - acc: 0.9425 - val_loss: 0.2356 - val_acc: 0.9000\n",
            "Epoch 16/30\n",
            "100/100 [==============================] - 0s 4ms/step - loss: 0.1583 - acc: 0.9490 - val_loss: 0.2375 - val_acc: 0.9010\n",
            "Epoch 17/30\n",
            "100/100 [==============================] - 0s 4ms/step - loss: 0.1493 - acc: 0.9480 - val_loss: 0.2327 - val_acc: 0.9010\n",
            "Epoch 18/30\n",
            "100/100 [==============================] - 0s 4ms/step - loss: 0.1402 - acc: 0.9480 - val_loss: 0.2476 - val_acc: 0.8950\n",
            "Epoch 19/30\n",
            "100/100 [==============================] - 0s 4ms/step - loss: 0.1337 - acc: 0.9555 - val_loss: 0.2327 - val_acc: 0.9010\n",
            "Epoch 20/30\n",
            "100/100 [==============================] - 0s 4ms/step - loss: 0.1304 - acc: 0.9565 - val_loss: 0.2412 - val_acc: 0.9040\n",
            "Epoch 21/30\n",
            "100/100 [==============================] - 0s 5ms/step - loss: 0.1259 - acc: 0.9625 - val_loss: 0.2335 - val_acc: 0.9010\n",
            "Epoch 22/30\n",
            "100/100 [==============================] - 0s 4ms/step - loss: 0.1175 - acc: 0.9620 - val_loss: 0.2382 - val_acc: 0.9010\n",
            "Epoch 23/30\n",
            "100/100 [==============================] - 0s 4ms/step - loss: 0.1172 - acc: 0.9630 - val_loss: 0.2317 - val_acc: 0.9020\n",
            "Epoch 24/30\n",
            "100/100 [==============================] - 0s 5ms/step - loss: 0.1128 - acc: 0.9610 - val_loss: 0.2341 - val_acc: 0.9020\n",
            "Epoch 25/30\n",
            "100/100 [==============================] - 0s 4ms/step - loss: 0.1052 - acc: 0.9640 - val_loss: 0.2325 - val_acc: 0.9000\n",
            "Epoch 26/30\n",
            "100/100 [==============================] - 0s 5ms/step - loss: 0.0983 - acc: 0.9680 - val_loss: 0.2353 - val_acc: 0.9030\n",
            "Epoch 27/30\n",
            "100/100 [==============================] - 1s 5ms/step - loss: 0.0988 - acc: 0.9690 - val_loss: 0.2469 - val_acc: 0.8980\n",
            "Epoch 28/30\n",
            "100/100 [==============================] - 0s 4ms/step - loss: 0.0922 - acc: 0.9725 - val_loss: 0.2380 - val_acc: 0.9040\n",
            "Epoch 29/30\n",
            "100/100 [==============================] - 0s 5ms/step - loss: 0.0914 - acc: 0.9765 - val_loss: 0.2354 - val_acc: 0.8980\n",
            "Epoch 30/30\n",
            "100/100 [==============================] - 0s 4ms/step - loss: 0.0869 - acc: 0.9740 - val_loss: 0.2377 - val_acc: 0.9020\n"
          ]
        }
      ]
    },
    {
      "cell_type": "code",
      "source": [
        "import matplotlib.pyplot as plt"
      ],
      "metadata": {
        "id": "KGF-1O6I9UUI"
      },
      "execution_count": 9,
      "outputs": []
    },
    {
      "cell_type": "code",
      "source": [
        "acc = history.history['acc']\n",
        "val_acc = history.history['val_acc']\n",
        "loss = history.history['loss']\n",
        "val_loss = history.history['val_loss']\n",
        "\n",
        "epochs = range(len(acc))\n",
        "\n",
        "plt.plot(epochs, acc, 'bo', label='Training acc')\n",
        "plt.plot(epochs, val_acc, 'b', label='Validation acc')\n",
        "plt.title('Training and validation accuracy')\n",
        "plt.legend()\n",
        "\n",
        "plt.figure()\n",
        "\n",
        "plt.plot(epochs, loss, 'bo', label='Training loss')\n",
        "plt.plot(epochs, val_loss, 'b', label='Validation loss')\n",
        "plt.title('Training and validation loss')\n",
        "plt.legend()\n",
        "\n",
        "plt.show()"
      ],
      "metadata": {
        "colab": {
          "base_uri": "https://localhost:8080/",
          "height": 545
        },
        "id": "Ygh169AF9t1U",
        "outputId": "c3c4df7e-beaf-4736-aed6-d4d40688ba6b"
      },
      "execution_count": 10,
      "outputs": [
        {
          "output_type": "display_data",
          "data": {
            "image/png": "[encoded data removed]",
            "text/plain": [
              "<Figure size 432x288 with 1 Axes>"
            ]
          },
          "metadata": {
            "needs_background": "light"
          }
        },
        {
          "output_type": "display_data",
          "data": {
            "image/png": "[encoded data removed]",
            "text/plain": [
              "<Figure size 432x288 with 1 Axes>"
            ]
          },
          "metadata": {
            "needs_background": "light"
          }
        }
      ]
    },
    {
      "cell_type": "markdown",
      "source": [
        "약 90%의 검증 정확도에 도달했습니다. 이전 절에서 처음부터 훈련시킨 작은 모델에서 얻은 것보다 훨씬 좋습니다. 하지만 이 그래프는 많은 비율로 드롭아웃을 사용했음에도 불구하고 훈련이 시작하면서 거의 바로 과대적합되고 있다는 것을 보여줍니다. 작은 이미지 데이터셋에서는 과대적합을 막기 위해 필수적인 데이터 증식을 사용하지 않았기 때문입니다."
      ],
      "metadata": {
        "id": "cTsiPqyg9urO"
      }
    },
    {
      "cell_type": "markdown",
      "source": [
        "작은 이미지 데이터셋에서는 과대적합을 막기 위해 필수적인 데이터 증식을 사용하지 않았기 때문에 과대적합이 일어남"
      ],
      "metadata": {
        "id": "yb0r2xRL97yd"
      }
    },
    {
      "cell_type": "markdown",
      "source": [
        "두 번째 방법은 훨씬 느리고 비용이 많이 들지만 훈련하는 동안 데이터 증식 기법을 사용할 수 있음"
      ],
      "metadata": {
        "id": "FnctFCsE-Kzr"
      }
    },
    {
      "cell_type": "code",
      "source": [
        "from keras import models\n",
        "from keras import layers\n",
        "\n",
        "model = models.Sequential()\n",
        "model.add(conv_base)\n",
        "model.add(layers.Flatten())\n",
        "model.add(layers.Dense(256, activation='relu'))\n",
        "model.add(layers.Dense(1, activation='sigmoid'))"
      ],
      "metadata": {
        "id": "7jNP1ya--VmZ"
      },
      "execution_count": 11,
      "outputs": []
    },
    {
      "cell_type": "code",
      "source": [
        "model.summary()"
      ],
      "metadata": {
        "colab": {
          "base_uri": "https://localhost:8080/"
        },
        "id": "YKgt7ej2-V_L",
        "outputId": "e03d3af2-c750-4b29-cc69-b9ed74029e82"
      },
      "execution_count": 12,
      "outputs": [
        {
          "output_type": "stream",
          "name": "stdout",
          "text": [
            "Model: \"sequential_3\"\n",
            "_________________________________________________________________\n",
            " Layer (type)                Output Shape              Param #   \n",
            "=================================================================\n",
            " vgg16 (Functional)          (None, 4, 4, 512)         14714688  \n",
            "                                                                 \n",
            " flatten (Flatten)           (None, 8192)              0         \n",
            "                                                                 \n",
            " dense_6 (Dense)             (None, 256)               2097408   \n",
            "                                                                 \n",
            " dense_7 (Dense)             (None, 1)                 257       \n",
            "                                                                 \n",
            "=================================================================\n",
            "Total params: 16,812,353\n",
            "Trainable params: 16,812,353\n",
            "Non-trainable params: 0\n",
            "_________________________________________________________________\n"
          ]
        }
      ]
    },
    {
      "cell_type": "markdown",
      "source": [
        "모델을 컴파일하고 훈련하기 전에 합성곱 기반층을 동결하는 것이 아주 중요합니다. 하나 이상의 층을 동결한다는 것은 훈련하는 동안 가중치가 업데이트되지 않도록 막는다는 뜻입니다. **이렇게 하지 않으면 합성곱 기반층에 의해 사전에 학습된 표현이 훈련하는 동안 수정될 것입니다. 맨 위의 Dense 층은 랜덤하게 초기화되었기 때문에 매우 큰 가중치 업데이트 값이 네트워크에 전파될 것입니다.** 이는 사전에 학습된 표현을 크게 훼손하게 됩니다."
      ],
      "metadata": {
        "id": "tcJWIt-P-Yh0"
      }
    },
    {
      "cell_type": "code",
      "source": [
        "print('conv_base를 동결하기 전 훈련되는 가중치의 수:', \n",
        "      len(model.trainable_weights))"
      ],
      "metadata": {
        "colab": {
          "base_uri": "https://localhost:8080/"
        },
        "id": "SVuKNE_h_ADK",
        "outputId": "b969c3e4-68d9-4686-fca9-eace2102a8b5"
      },
      "execution_count": 13,
      "outputs": [
        {
          "output_type": "stream",
          "name": "stdout",
          "text": [
            "conv_base를 동결하기 전 훈련되는 가중치의 수: 30\n"
          ]
        }
      ]
    },
    {
      "cell_type": "code",
      "source": [
        "conv_base.trainable = False"
      ],
      "metadata": {
        "id": "uAq4Ztpz_JhL"
      },
      "execution_count": 14,
      "outputs": []
    },
    {
      "cell_type": "markdown",
      "source": [
        "Dense 층마다 두개씩 해서 4개(가중치 행렬과 편향 벡터)"
      ],
      "metadata": {
        "id": "HBy4uQew_nkB"
      }
    },
    {
      "cell_type": "code",
      "source": [
        "print('conv_base를 동결한 후 훈련되는 가중치의 수:', \n",
        "      len(model.trainable_weights))"
      ],
      "metadata": {
        "colab": {
          "base_uri": "https://localhost:8080/"
        },
        "id": "ANkgf89a_XYM",
        "outputId": "d5d79296-ffcd-4303-fb00-540b23e82830"
      },
      "execution_count": 15,
      "outputs": [
        {
          "output_type": "stream",
          "name": "stdout",
          "text": [
            "conv_base를 동결한 후 훈련되는 가중치의 수: 4\n"
          ]
        }
      ]
    },
    {
      "cell_type": "code",
      "source": [
        "from keras.preprocessing.image import ImageDataGenerator\n",
        "\n",
        "train_datagen = ImageDataGenerator(\n",
        "      rescale=1./255,\n",
        "      rotation_range=20,\n",
        "      width_shift_range=0.1,\n",
        "      height_shift_range=0.1,\n",
        "      shear_range=0.1,\n",
        "      zoom_range=0.1,\n",
        "      horizontal_flip=True,\n",
        "      fill_mode='nearest')\n",
        "\n",
        "# 검증 데이터는 증식되어서는 안 됩니다!\n",
        "test_datagen = ImageDataGenerator(rescale=1./255)\n",
        "\n",
        "train_generator = train_datagen.flow_from_directory(\n",
        "        # 타깃 디렉터리\n",
        "        train_dir,\n",
        "        # 모든 이미지의 크기를 150 × 150로 변경합니다\n",
        "        target_size=(150, 150),\n",
        "        batch_size=20,\n",
        "        # binary_crossentropy 손실을 사용하므로 이진 레이블이 필요합니다\n",
        "        class_mode='binary')\n",
        "\n",
        "validation_generator = test_datagen.flow_from_directory(\n",
        "        validation_dir,\n",
        "        target_size=(150, 150),\n",
        "        batch_size=20,\n",
        "        class_mode='binary')\n",
        "\n",
        "model.compile(loss='binary_crossentropy',\n",
        "              optimizer=optimizers.RMSprop(lr=2e-5),\n",
        "              metrics=['acc'])\n",
        "\n",
        "history = model.fit_generator(\n",
        "      train_generator,\n",
        "      steps_per_epoch=100,\n",
        "      epochs=30,\n",
        "      validation_data=validation_generator,\n",
        "      validation_steps=50,\n",
        "      verbose=2)"
      ],
      "metadata": {
        "colab": {
          "base_uri": "https://localhost:8080/"
        },
        "id": "SqiLiKBYAQmH",
        "outputId": "b1cfef59-3c46-43c5-e4c7-4b75298f803a"
      },
      "execution_count": 17,
      "outputs": [
        {
          "output_type": "stream",
          "name": "stdout",
          "text": [
            "Found 2000 images belonging to 2 classes.\n",
            "Found 1000 images belonging to 2 classes.\n"
          ]
        },
        {
          "output_type": "stream",
          "name": "stderr",
          "text": [
            "/usr/local/lib/python3.7/dist-packages/keras/optimizer_v2/rmsprop.py:130: UserWarning: The `lr` argument is deprecated, use `learning_rate` instead.\n",
            "  super(RMSprop, self).__init__(name, **kwargs)\n",
            "/usr/local/lib/python3.7/dist-packages/ipykernel_launcher.py:41: UserWarning: `Model.fit_generator` is deprecated and will be removed in a future version. Please use `Model.fit`, which supports generators.\n"
          ]
        },
        {
          "output_type": "stream",
          "name": "stdout",
          "text": [
            "Epoch 1/30\n",
            "100/100 - 26s - loss: 0.4908 - acc: 0.7815 - val_loss: 0.3835 - val_acc: 0.8490 - 26s/epoch - 260ms/step\n",
            "Epoch 2/30\n",
            "100/100 - 22s - loss: 0.3925 - acc: 0.8360 - val_loss: 0.3237 - val_acc: 0.8860 - 22s/epoch - 223ms/step\n",
            "Epoch 3/30\n",
            "100/100 - 23s - loss: 0.3435 - acc: 0.8540 - val_loss: 0.2961 - val_acc: 0.8920 - 23s/epoch - 226ms/step\n",
            "Epoch 4/30\n",
            "100/100 - 22s - loss: 0.3237 - acc: 0.8660 - val_loss: 0.2757 - val_acc: 0.8950 - 22s/epoch - 220ms/step\n",
            "Epoch 5/30\n",
            "100/100 - 22s - loss: 0.2890 - acc: 0.8815 - val_loss: 0.2611 - val_acc: 0.8970 - 22s/epoch - 221ms/step\n",
            "Epoch 6/30\n",
            "100/100 - 22s - loss: 0.2865 - acc: 0.8825 - val_loss: 0.2540 - val_acc: 0.9010 - 22s/epoch - 221ms/step\n",
            "Epoch 7/30\n",
            "100/100 - 22s - loss: 0.2771 - acc: 0.8895 - val_loss: 0.2502 - val_acc: 0.9000 - 22s/epoch - 220ms/step\n",
            "Epoch 8/30\n",
            "100/100 - 22s - loss: 0.2737 - acc: 0.8900 - val_loss: 0.2428 - val_acc: 0.9060 - 22s/epoch - 221ms/step\n",
            "Epoch 9/30\n",
            "100/100 - 22s - loss: 0.2563 - acc: 0.8910 - val_loss: 0.2390 - val_acc: 0.9090 - 22s/epoch - 223ms/step\n",
            "Epoch 10/30\n",
            "100/100 - 22s - loss: 0.2529 - acc: 0.8950 - val_loss: 0.2392 - val_acc: 0.9020 - 22s/epoch - 220ms/step\n",
            "Epoch 11/30\n",
            "100/100 - 22s - loss: 0.2471 - acc: 0.9015 - val_loss: 0.2405 - val_acc: 0.9040 - 22s/epoch - 220ms/step\n",
            "Epoch 12/30\n",
            "100/100 - 22s - loss: 0.2324 - acc: 0.9060 - val_loss: 0.2325 - val_acc: 0.9130 - 22s/epoch - 221ms/step\n",
            "Epoch 13/30\n",
            "100/100 - 22s - loss: 0.2366 - acc: 0.9080 - val_loss: 0.2309 - val_acc: 0.9080 - 22s/epoch - 221ms/step\n",
            "Epoch 14/30\n",
            "100/100 - 22s - loss: 0.2375 - acc: 0.8965 - val_loss: 0.2287 - val_acc: 0.9070 - 22s/epoch - 221ms/step\n",
            "Epoch 15/30\n",
            "100/100 - 22s - loss: 0.2221 - acc: 0.9090 - val_loss: 0.2288 - val_acc: 0.9120 - 22s/epoch - 220ms/step\n",
            "Epoch 16/30\n",
            "100/100 - 22s - loss: 0.2232 - acc: 0.9050 - val_loss: 0.2330 - val_acc: 0.9070 - 22s/epoch - 220ms/step\n",
            "Epoch 17/30\n",
            "100/100 - 22s - loss: 0.2289 - acc: 0.9090 - val_loss: 0.2284 - val_acc: 0.9150 - 22s/epoch - 223ms/step\n",
            "Epoch 18/30\n",
            "100/100 - 22s - loss: 0.2159 - acc: 0.9175 - val_loss: 0.2494 - val_acc: 0.8900 - 22s/epoch - 219ms/step\n",
            "Epoch 19/30\n",
            "100/100 - 22s - loss: 0.2082 - acc: 0.9175 - val_loss: 0.2365 - val_acc: 0.9080 - 22s/epoch - 220ms/step\n",
            "Epoch 20/30\n",
            "100/100 - 22s - loss: 0.2072 - acc: 0.9190 - val_loss: 0.2261 - val_acc: 0.9150 - 22s/epoch - 220ms/step\n",
            "Epoch 21/30\n",
            "100/100 - 22s - loss: 0.2120 - acc: 0.9135 - val_loss: 0.2244 - val_acc: 0.9130 - 22s/epoch - 219ms/step\n",
            "Epoch 22/30\n",
            "100/100 - 22s - loss: 0.1969 - acc: 0.9240 - val_loss: 0.2280 - val_acc: 0.9150 - 22s/epoch - 220ms/step\n",
            "Epoch 23/30\n",
            "100/100 - 22s - loss: 0.2072 - acc: 0.9170 - val_loss: 0.2262 - val_acc: 0.9160 - 22s/epoch - 220ms/step\n",
            "Epoch 24/30\n",
            "100/100 - 22s - loss: 0.2015 - acc: 0.9180 - val_loss: 0.2326 - val_acc: 0.9110 - 22s/epoch - 220ms/step\n",
            "Epoch 25/30\n",
            "100/100 - 22s - loss: 0.1907 - acc: 0.9250 - val_loss: 0.2267 - val_acc: 0.9120 - 22s/epoch - 220ms/step\n",
            "Epoch 26/30\n",
            "100/100 - 22s - loss: 0.1893 - acc: 0.9265 - val_loss: 0.2283 - val_acc: 0.9120 - 22s/epoch - 222ms/step\n",
            "Epoch 27/30\n",
            "100/100 - 22s - loss: 0.1941 - acc: 0.9210 - val_loss: 0.2334 - val_acc: 0.9120 - 22s/epoch - 220ms/step\n",
            "Epoch 28/30\n",
            "100/100 - 22s - loss: 0.1900 - acc: 0.9220 - val_loss: 0.2277 - val_acc: 0.9110 - 22s/epoch - 221ms/step\n",
            "Epoch 29/30\n",
            "100/100 - 22s - loss: 0.1871 - acc: 0.9170 - val_loss: 0.2282 - val_acc: 0.9140 - 22s/epoch - 219ms/step\n",
            "Epoch 30/30\n",
            "100/100 - 22s - loss: 0.1905 - acc: 0.9180 - val_loss: 0.2272 - val_acc: 0.9140 - 22s/epoch - 220ms/step\n"
          ]
        }
      ]
    },
    {
      "cell_type": "code",
      "source": [
        "model.save('cats_and_dogs_small_3.h5')"
      ],
      "metadata": {
        "id": "l0tZNBJdAStf"
      },
      "execution_count": 18,
      "outputs": []
    },
    {
      "cell_type": "code",
      "source": [
        "acc = history.history['acc']\n",
        "val_acc = history.history['val_acc']\n",
        "loss = history.history['loss']\n",
        "val_loss = history.history['val_loss']\n",
        "\n",
        "epochs = range(len(acc))\n",
        "\n",
        "plt.plot(epochs, acc, 'bo', label='Training acc')\n",
        "plt.plot(epochs, val_acc, 'b', label='Validation acc')\n",
        "plt.title('Training and validation accuracy')\n",
        "plt.legend()\n",
        "\n",
        "plt.figure()\n",
        "\n",
        "plt.plot(epochs, loss, 'bo', label='Training loss')\n",
        "plt.plot(epochs, val_loss, 'b', label='Validation loss')\n",
        "plt.title('Training and validation loss')\n",
        "plt.legend()\n",
        "\n",
        "plt.show()"
      ],
      "metadata": {
        "colab": {
          "base_uri": "https://localhost:8080/",
          "height": 545
        },
        "id": "J9nlzIvSG_Yb",
        "outputId": "112f8830-cdff-42a9-8467-a480470c0300"
      },
      "execution_count": 19,
      "outputs": [
        {
          "output_type": "display_data",
          "data": {
            "image/png": "[encoded data removed]",
            "text/plain": [
              "<Figure size 432x288 with 1 Axes>"
            ]
          },
          "metadata": {
            "needs_background": "light"
          }
        },
        {
          "output_type": "display_data",
          "data": {
            "image/png": "[encoded data removed]",
            "text/plain": [
              "<Figure size 432x288 with 1 Axes>"
            ]
          },
          "metadata": {
            "needs_background": "light"
          }
        }
      ]
    },
    {
      "cell_type": "markdown",
      "source": [
        "#미세 조정\n",
        "\n",
        "특성 추출에 사용했던 동결 모델의 상위 층 몇 개를 동결에서 해제하고 모델에 새로 추가한 층과 함께 훈련하는 것(재사용 모델의 표현을 일부 조정)\n",
        "\n",
        "\n",
        "\n",
        "\n"
      ],
      "metadata": {
        "id": "gwaTrrDZHBIQ"
      }
    },
    {
      "cell_type": "markdown",
      "source": [
        "1. 사전에 훈련된 기반 네트워크 위에 새로운 네트워크를 추가합니다.\n",
        "2. 기반 네트워크를 동결합니다.\n",
        "3. 새로 추가한 네트워크를 훈련합니다.\n",
        "4. 기반 네트워크에서 일부 층의 동결을 해제합니다.\n",
        "5. 동결을 해제한 층과 새로 추가한 층을 함께 훈련합니다."
      ],
      "metadata": {
        "id": "RR2TiiYGHIdX"
      }
    },
    {
      "cell_type": "code",
      "source": [
        "conv_base.summary()"
      ],
      "metadata": {
        "colab": {
          "base_uri": "https://localhost:8080/"
        },
        "id": "2_q2XF1IHuNL",
        "outputId": "ee2317b2-b61d-4c9d-b3aa-8699e51ae19a"
      },
      "execution_count": 20,
      "outputs": [
        {
          "output_type": "stream",
          "name": "stdout",
          "text": [
            "Model: \"vgg16\"\n",
            "_________________________________________________________________\n",
            " Layer (type)                Output Shape              Param #   \n",
            "=================================================================\n",
            " input_1 (InputLayer)        [(None, 150, 150, 3)]     0         \n",
            "                                                                 \n",
            " block1_conv1 (Conv2D)       (None, 150, 150, 64)      1792      \n",
            "                                                                 \n",
            " block1_conv2 (Conv2D)       (None, 150, 150, 64)      36928     \n",
            "                                                                 \n",
            " block1_pool (MaxPooling2D)  (None, 75, 75, 64)        0         \n",
            "                                                                 \n",
            " block2_conv1 (Conv2D)       (None, 75, 75, 128)       73856     \n",
            "                                                                 \n",
            " block2_conv2 (Conv2D)       (None, 75, 75, 128)       147584    \n",
            "                                                                 \n",
            " block2_pool (MaxPooling2D)  (None, 37, 37, 128)       0         \n",
            "                                                                 \n",
            " block3_conv1 (Conv2D)       (None, 37, 37, 256)       295168    \n",
            "                                                                 \n",
            " block3_conv2 (Conv2D)       (None, 37, 37, 256)       590080    \n",
            "                                                                 \n",
            " block3_conv3 (Conv2D)       (None, 37, 37, 256)       590080    \n",
            "                                                                 \n",
            " block3_pool (MaxPooling2D)  (None, 18, 18, 256)       0         \n",
            "                                                                 \n",
            " block4_conv1 (Conv2D)       (None, 18, 18, 512)       1180160   \n",
            "                                                                 \n",
            " block4_conv2 (Conv2D)       (None, 18, 18, 512)       2359808   \n",
            "                                                                 \n",
            " block4_conv3 (Conv2D)       (None, 18, 18, 512)       2359808   \n",
            "                                                                 \n",
            " block4_pool (MaxPooling2D)  (None, 9, 9, 512)         0         \n",
            "                                                                 \n",
            " block5_conv1 (Conv2D)       (None, 9, 9, 512)         2359808   \n",
            "                                                                 \n",
            " block5_conv2 (Conv2D)       (None, 9, 9, 512)         2359808   \n",
            "                                                                 \n",
            " block5_conv3 (Conv2D)       (None, 9, 9, 512)         2359808   \n",
            "                                                                 \n",
            " block5_pool (MaxPooling2D)  (None, 4, 4, 512)         0         \n",
            "                                                                 \n",
            "=================================================================\n",
            "Total params: 14,714,688\n",
            "Trainable params: 0\n",
            "Non-trainable params: 14,714,688\n",
            "_________________________________________________________________\n"
          ]
        }
      ]
    },
    {
      "cell_type": "markdown",
      "source": [
        "##적은 층을 미세조정 하는이유\n",
        "\n",
        "* 합성곱 기반층에 있는 하위 층들은 좀 더 일반적이고 재사용 가능한 특성들을 \n",
        "인코딩합니다. 반면 상위 층은 좀 더 특화된 특성을 인코딩합니다. **새로운 문제에 재활용하도록 수정이 필요한 것은 구체적인 특성이므로 이들을 미세 조정하는 것이 유리합니다.** 하위 층으로 갈수록 미세 조정에 대한 효과가 감소합니다.\n",
        "* 훈련해야 할 **파라미터가 많을수록 과대적합의 위험이 커집니다.** 합성곱 기반층은 1천 5백만 개의 파라미터를 가지고 있습니다. 작은 데이터셋으로 전부 훈련하려고 하면 매우 위험합니다."
      ],
      "metadata": {
        "id": "GcUT1gbNHy3s"
      }
    },
    {
      "cell_type": "markdown",
      "source": [
        "최상위 3개의 층만 학습 가능하도록 함"
      ],
      "metadata": {
        "id": "jTebg906ImHZ"
      }
    },
    {
      "cell_type": "code",
      "source": [
        "conv_base.trainable = True\n",
        "\n",
        "set_trainable = False\n",
        "for layer in conv_base.layers:\n",
        "    if layer.name == 'block5_conv1':\n",
        "        set_trainable = True\n",
        "    if set_trainable:\n",
        "        layer.trainable = True\n",
        "    else:\n",
        "        layer.trainable = False"
      ],
      "metadata": {
        "id": "-4PjKaurILFX"
      },
      "execution_count": 21,
      "outputs": []
    },
    {
      "cell_type": "markdown",
      "source": [
        "학습률을 2e-5에서 e-5로 낮춤\n",
        "학습된 표현을 조금씩 수정하기 위해서.. 기존에 학습된 표현에 악영향을 줄 수 있기 때문"
      ],
      "metadata": {
        "id": "62vjbRwKItif"
      }
    },
    {
      "cell_type": "code",
      "source": [
        "model.compile(loss='binary_crossentropy',\n",
        "              optimizer=optimizers.RMSprop(lr=1e-5),\n",
        "              metrics=['acc'])\n",
        "\n",
        "history = model.fit_generator(\n",
        "      train_generator,\n",
        "      steps_per_epoch=100,\n",
        "      epochs=100,\n",
        "      validation_data=validation_generator,\n",
        "      validation_steps=50)"
      ],
      "metadata": {
        "colab": {
          "base_uri": "https://localhost:8080/"
        },
        "id": "ysb8hBcWIN1t",
        "outputId": "052531e9-3100-4fe5-8cf3-ecd3619f043c"
      },
      "execution_count": 22,
      "outputs": [
        {
          "output_type": "stream",
          "name": "stderr",
          "text": [
            "/usr/local/lib/python3.7/dist-packages/keras/optimizer_v2/rmsprop.py:130: UserWarning: The `lr` argument is deprecated, use `learning_rate` instead.\n",
            "  super(RMSprop, self).__init__(name, **kwargs)\n",
            "/usr/local/lib/python3.7/dist-packages/ipykernel_launcher.py:10: UserWarning: `Model.fit_generator` is deprecated and will be removed in a future version. Please use `Model.fit`, which supports generators.\n",
            "  # Remove the CWD from sys.path while we load stuff.\n"
          ]
        },
        {
          "output_type": "stream",
          "name": "stdout",
          "text": [
            "Epoch 1/100\n",
            "100/100 [==============================] - 25s 237ms/step - loss: 0.2014 - acc: 0.9165 - val_loss: 0.2314 - val_acc: 0.9120\n",
            "Epoch 2/100\n",
            "100/100 [==============================] - 24s 235ms/step - loss: 0.1629 - acc: 0.9375 - val_loss: 0.2525 - val_acc: 0.8970\n",
            "Epoch 3/100\n",
            "100/100 [==============================] - 24s 236ms/step - loss: 0.1411 - acc: 0.9415 - val_loss: 0.2278 - val_acc: 0.9060\n",
            "Epoch 4/100\n",
            "100/100 [==============================] - 24s 236ms/step - loss: 0.1259 - acc: 0.9505 - val_loss: 0.2072 - val_acc: 0.9240\n",
            "Epoch 5/100\n",
            "100/100 [==============================] - 24s 236ms/step - loss: 0.1089 - acc: 0.9560 - val_loss: 0.1993 - val_acc: 0.9330\n",
            "Epoch 6/100\n",
            "100/100 [==============================] - 24s 237ms/step - loss: 0.1023 - acc: 0.9600 - val_loss: 0.2021 - val_acc: 0.9300\n",
            "Epoch 7/100\n",
            "100/100 [==============================] - 24s 238ms/step - loss: 0.0771 - acc: 0.9735 - val_loss: 0.1993 - val_acc: 0.9290\n",
            "Epoch 8/100\n",
            "100/100 [==============================] - 23s 234ms/step - loss: 0.0724 - acc: 0.9740 - val_loss: 0.2538 - val_acc: 0.9110\n",
            "Epoch 9/100\n",
            "100/100 [==============================] - 23s 235ms/step - loss: 0.0649 - acc: 0.9800 - val_loss: 0.2089 - val_acc: 0.9210\n",
            "Epoch 10/100\n",
            "100/100 [==============================] - 24s 236ms/step - loss: 0.0550 - acc: 0.9805 - val_loss: 0.2166 - val_acc: 0.9280\n",
            "Epoch 11/100\n",
            "100/100 [==============================] - 23s 233ms/step - loss: 0.0477 - acc: 0.9855 - val_loss: 0.2104 - val_acc: 0.9220\n",
            "Epoch 12/100\n",
            "100/100 [==============================] - 23s 235ms/step - loss: 0.0555 - acc: 0.9810 - val_loss: 0.2017 - val_acc: 0.9300\n",
            "Epoch 13/100\n",
            "100/100 [==============================] - 23s 233ms/step - loss: 0.0330 - acc: 0.9905 - val_loss: 0.2735 - val_acc: 0.9120\n",
            "Epoch 14/100\n",
            "100/100 [==============================] - 24s 236ms/step - loss: 0.0382 - acc: 0.9845 - val_loss: 0.2195 - val_acc: 0.9250\n",
            "Epoch 15/100\n",
            "100/100 [==============================] - 23s 234ms/step - loss: 0.0328 - acc: 0.9895 - val_loss: 0.2230 - val_acc: 0.9290\n",
            "Epoch 16/100\n",
            "100/100 [==============================] - 24s 236ms/step - loss: 0.0324 - acc: 0.9885 - val_loss: 0.2350 - val_acc: 0.9320\n",
            "Epoch 17/100\n",
            "100/100 [==============================] - 23s 233ms/step - loss: 0.0251 - acc: 0.9915 - val_loss: 0.2252 - val_acc: 0.9290\n",
            "Epoch 18/100\n",
            "100/100 [==============================] - 23s 234ms/step - loss: 0.0244 - acc: 0.9930 - val_loss: 0.2551 - val_acc: 0.9280\n",
            "Epoch 19/100\n",
            "100/100 [==============================] - 24s 236ms/step - loss: 0.0189 - acc: 0.9950 - val_loss: 0.2528 - val_acc: 0.9200\n",
            "Epoch 20/100\n",
            "100/100 [==============================] - 24s 240ms/step - loss: 0.0292 - acc: 0.9875 - val_loss: 0.2611 - val_acc: 0.9260\n",
            "Epoch 21/100\n",
            "100/100 [==============================] - 24s 235ms/step - loss: 0.0241 - acc: 0.9925 - val_loss: 0.2153 - val_acc: 0.9370\n",
            "Epoch 22/100\n",
            "100/100 [==============================] - 24s 236ms/step - loss: 0.0175 - acc: 0.9935 - val_loss: 0.3375 - val_acc: 0.9100\n",
            "Epoch 23/100\n",
            "100/100 [==============================] - 24s 235ms/step - loss: 0.0180 - acc: 0.9935 - val_loss: 0.2514 - val_acc: 0.9290\n",
            "Epoch 24/100\n",
            "100/100 [==============================] - 24s 237ms/step - loss: 0.0183 - acc: 0.9930 - val_loss: 0.2399 - val_acc: 0.9310\n",
            "Epoch 25/100\n",
            "100/100 [==============================] - 24s 237ms/step - loss: 0.0122 - acc: 0.9975 - val_loss: 0.3132 - val_acc: 0.9200\n",
            "Epoch 26/100\n",
            "100/100 [==============================] - 24s 237ms/step - loss: 0.0158 - acc: 0.9950 - val_loss: 0.2560 - val_acc: 0.9310\n",
            "Epoch 27/100\n",
            "100/100 [==============================] - 24s 237ms/step - loss: 0.0139 - acc: 0.9950 - val_loss: 0.2988 - val_acc: 0.9170\n",
            "Epoch 28/100\n",
            "100/100 [==============================] - 23s 235ms/step - loss: 0.0112 - acc: 0.9970 - val_loss: 0.3985 - val_acc: 0.9070\n",
            "Epoch 29/100\n",
            "100/100 [==============================] - 24s 235ms/step - loss: 0.0156 - acc: 0.9935 - val_loss: 0.2720 - val_acc: 0.9320\n",
            "Epoch 30/100\n",
            "100/100 [==============================] - 24s 235ms/step - loss: 0.0095 - acc: 0.9970 - val_loss: 0.2873 - val_acc: 0.9230\n",
            "Epoch 31/100\n",
            "100/100 [==============================] - 24s 235ms/step - loss: 0.0071 - acc: 0.9980 - val_loss: 0.3088 - val_acc: 0.9280\n",
            "Epoch 32/100\n",
            "100/100 [==============================] - 24s 239ms/step - loss: 0.0079 - acc: 0.9985 - val_loss: 0.2928 - val_acc: 0.9260\n",
            "Epoch 33/100\n",
            "100/100 [==============================] - 23s 235ms/step - loss: 0.0055 - acc: 0.9990 - val_loss: 0.3630 - val_acc: 0.9160\n",
            "Epoch 34/100\n",
            "100/100 [==============================] - 23s 235ms/step - loss: 0.0132 - acc: 0.9935 - val_loss: 0.3049 - val_acc: 0.9230\n",
            "Epoch 35/100\n",
            "100/100 [==============================] - 24s 236ms/step - loss: 0.0100 - acc: 0.9970 - val_loss: 0.2834 - val_acc: 0.9290\n",
            "Epoch 36/100\n",
            "100/100 [==============================] - 24s 236ms/step - loss: 0.0081 - acc: 0.9975 - val_loss: 0.2810 - val_acc: 0.9280\n",
            "Epoch 37/100\n",
            "100/100 [==============================] - 23s 234ms/step - loss: 0.0137 - acc: 0.9975 - val_loss: 0.2666 - val_acc: 0.9340\n",
            "Epoch 38/100\n",
            "100/100 [==============================] - 24s 237ms/step - loss: 0.0051 - acc: 0.9990 - val_loss: 0.2990 - val_acc: 0.9300\n",
            "Epoch 39/100\n",
            "100/100 [==============================] - 23s 235ms/step - loss: 0.0069 - acc: 0.9975 - val_loss: 0.3005 - val_acc: 0.9330\n",
            "Epoch 40/100\n",
            "100/100 [==============================] - 23s 235ms/step - loss: 0.0060 - acc: 0.9975 - val_loss: 0.3028 - val_acc: 0.9240\n",
            "Epoch 41/100\n",
            "100/100 [==============================] - 23s 234ms/step - loss: 0.0087 - acc: 0.9980 - val_loss: 0.3739 - val_acc: 0.9160\n",
            "Epoch 42/100\n",
            "100/100 [==============================] - 23s 234ms/step - loss: 0.0062 - acc: 0.9965 - val_loss: 0.2981 - val_acc: 0.9320\n",
            "Epoch 43/100\n",
            "100/100 [==============================] - 23s 234ms/step - loss: 0.0033 - acc: 0.9995 - val_loss: 0.3128 - val_acc: 0.9340\n",
            "Epoch 44/100\n",
            "100/100 [==============================] - 24s 238ms/step - loss: 0.0059 - acc: 0.9985 - val_loss: 0.2997 - val_acc: 0.9390\n",
            "Epoch 45/100\n",
            "100/100 [==============================] - 24s 236ms/step - loss: 0.0097 - acc: 0.9975 - val_loss: 0.2954 - val_acc: 0.9290\n",
            "Epoch 46/100\n",
            "100/100 [==============================] - 24s 235ms/step - loss: 0.0044 - acc: 0.9985 - val_loss: 0.2849 - val_acc: 0.9320\n",
            "Epoch 47/100\n",
            "100/100 [==============================] - 23s 234ms/step - loss: 0.0051 - acc: 0.9985 - val_loss: 0.3112 - val_acc: 0.9310\n",
            "Epoch 48/100\n",
            "100/100 [==============================] - 24s 237ms/step - loss: 0.0047 - acc: 0.9990 - val_loss: 0.3035 - val_acc: 0.9320\n",
            "Epoch 49/100\n",
            "100/100 [==============================] - 23s 234ms/step - loss: 0.0045 - acc: 0.9990 - val_loss: 0.3469 - val_acc: 0.9310\n",
            "Epoch 50/100\n",
            "100/100 [==============================] - 24s 237ms/step - loss: 0.0040 - acc: 0.9985 - val_loss: 0.3180 - val_acc: 0.9310\n",
            "Epoch 51/100\n",
            "100/100 [==============================] - 23s 234ms/step - loss: 0.0041 - acc: 0.9980 - val_loss: 0.3412 - val_acc: 0.9370\n",
            "Epoch 52/100\n",
            "100/100 [==============================] - 23s 235ms/step - loss: 0.0059 - acc: 0.9980 - val_loss: 0.3324 - val_acc: 0.9250\n",
            "Epoch 53/100\n",
            "100/100 [==============================] - 24s 237ms/step - loss: 0.0030 - acc: 0.9990 - val_loss: 0.3613 - val_acc: 0.9280\n",
            "Epoch 54/100\n",
            "100/100 [==============================] - 23s 233ms/step - loss: 0.0062 - acc: 0.9985 - val_loss: 0.3761 - val_acc: 0.9270\n",
            "Epoch 55/100\n",
            "100/100 [==============================] - 23s 234ms/step - loss: 0.0027 - acc: 0.9990 - val_loss: 0.4110 - val_acc: 0.9300\n",
            "Epoch 56/100\n",
            "100/100 [==============================] - 24s 238ms/step - loss: 0.0115 - acc: 0.9975 - val_loss: 0.3741 - val_acc: 0.9340\n",
            "Epoch 57/100\n",
            "100/100 [==============================] - 24s 243ms/step - loss: 0.0020 - acc: 1.0000 - val_loss: 0.3833 - val_acc: 0.9260\n",
            "Epoch 58/100\n",
            "100/100 [==============================] - 24s 237ms/step - loss: 0.0065 - acc: 0.9975 - val_loss: 0.3533 - val_acc: 0.9290\n",
            "Epoch 59/100\n",
            "100/100 [==============================] - 23s 234ms/step - loss: 0.0058 - acc: 0.9985 - val_loss: 0.3738 - val_acc: 0.9270\n",
            "Epoch 60/100\n",
            "100/100 [==============================] - 23s 234ms/step - loss: 0.0055 - acc: 0.9985 - val_loss: 0.3629 - val_acc: 0.9320\n",
            "Epoch 61/100\n",
            "100/100 [==============================] - 23s 234ms/step - loss: 0.0053 - acc: 0.9985 - val_loss: 0.3742 - val_acc: 0.9290\n",
            "Epoch 62/100\n",
            "100/100 [==============================] - 24s 235ms/step - loss: 0.0045 - acc: 0.9990 - val_loss: 0.3496 - val_acc: 0.9370\n",
            "Epoch 63/100\n",
            "100/100 [==============================] - 24s 236ms/step - loss: 0.0036 - acc: 0.9995 - val_loss: 0.4256 - val_acc: 0.9350\n",
            "Epoch 64/100\n",
            "100/100 [==============================] - 23s 235ms/step - loss: 0.0079 - acc: 0.9975 - val_loss: 0.3575 - val_acc: 0.9360\n",
            "Epoch 65/100\n",
            "100/100 [==============================] - 23s 233ms/step - loss: 0.0030 - acc: 0.9995 - val_loss: 0.3381 - val_acc: 0.9330\n",
            "Epoch 66/100\n",
            "100/100 [==============================] - 23s 234ms/step - loss: 0.0039 - acc: 0.9985 - val_loss: 0.3932 - val_acc: 0.9310\n",
            "Epoch 67/100\n",
            "100/100 [==============================] - 23s 234ms/step - loss: 0.0035 - acc: 0.9990 - val_loss: 0.3762 - val_acc: 0.9310\n",
            "Epoch 68/100\n",
            "100/100 [==============================] - 24s 237ms/step - loss: 0.0019 - acc: 0.9995 - val_loss: 0.3875 - val_acc: 0.9360\n",
            "Epoch 69/100\n",
            "100/100 [==============================] - 24s 236ms/step - loss: 0.0032 - acc: 0.9995 - val_loss: 0.4028 - val_acc: 0.9310\n",
            "Epoch 70/100\n",
            "100/100 [==============================] - 24s 239ms/step - loss: 0.0063 - acc: 0.9985 - val_loss: 0.4087 - val_acc: 0.9290\n",
            "Epoch 71/100\n",
            "100/100 [==============================] - 23s 234ms/step - loss: 0.0038 - acc: 0.9985 - val_loss: 0.3894 - val_acc: 0.9290\n",
            "Epoch 72/100\n",
            "100/100 [==============================] - 23s 233ms/step - loss: 0.0052 - acc: 0.9980 - val_loss: 0.3861 - val_acc: 0.9230\n",
            "Epoch 73/100\n",
            "100/100 [==============================] - 23s 235ms/step - loss: 0.0074 - acc: 0.9980 - val_loss: 0.5002 - val_acc: 0.9190\n",
            "Epoch 74/100\n",
            "100/100 [==============================] - 24s 236ms/step - loss: 0.0014 - acc: 0.9990 - val_loss: 0.4306 - val_acc: 0.9310\n",
            "Epoch 75/100\n",
            "100/100 [==============================] - 23s 233ms/step - loss: 0.0018 - acc: 0.9990 - val_loss: 0.3996 - val_acc: 0.9370\n",
            "Epoch 76/100\n",
            "100/100 [==============================] - 24s 236ms/step - loss: 0.0033 - acc: 0.9990 - val_loss: 0.4025 - val_acc: 0.9330\n",
            "Epoch 77/100\n",
            "100/100 [==============================] - 24s 240ms/step - loss: 0.0017 - acc: 0.9990 - val_loss: 0.4231 - val_acc: 0.9350\n",
            "Epoch 78/100\n",
            "100/100 [==============================] - 24s 242ms/step - loss: 9.6740e-04 - acc: 1.0000 - val_loss: 0.4158 - val_acc: 0.9370\n",
            "Epoch 79/100\n",
            "100/100 [==============================] - 24s 240ms/step - loss: 0.0050 - acc: 0.9980 - val_loss: 0.4570 - val_acc: 0.9220\n",
            "Epoch 80/100\n",
            "100/100 [==============================] - 23s 235ms/step - loss: 8.2693e-04 - acc: 0.9995 - val_loss: 0.4033 - val_acc: 0.9340\n",
            "Epoch 81/100\n",
            "100/100 [==============================] - 23s 234ms/step - loss: 0.0070 - acc: 0.9980 - val_loss: 0.4317 - val_acc: 0.9380\n",
            "Epoch 82/100\n",
            "100/100 [==============================] - 24s 235ms/step - loss: 0.0031 - acc: 0.9990 - val_loss: 0.4199 - val_acc: 0.9300\n",
            "Epoch 83/100\n",
            "100/100 [==============================] - 24s 240ms/step - loss: 0.0056 - acc: 0.9970 - val_loss: 0.4759 - val_acc: 0.9220\n",
            "Epoch 84/100\n",
            "100/100 [==============================] - 24s 236ms/step - loss: 0.0019 - acc: 0.9995 - val_loss: 0.3901 - val_acc: 0.9340\n",
            "Epoch 85/100\n",
            "100/100 [==============================] - 23s 234ms/step - loss: 0.0047 - acc: 0.9990 - val_loss: 0.4203 - val_acc: 0.9300\n",
            "Epoch 86/100\n",
            "100/100 [==============================] - 23s 234ms/step - loss: 5.0758e-04 - acc: 1.0000 - val_loss: 0.4304 - val_acc: 0.9320\n",
            "Epoch 87/100\n",
            "100/100 [==============================] - 24s 237ms/step - loss: 6.8217e-04 - acc: 1.0000 - val_loss: 0.4499 - val_acc: 0.9280\n",
            "Epoch 88/100\n",
            "100/100 [==============================] - 24s 235ms/step - loss: 0.0018 - acc: 0.9995 - val_loss: 0.4271 - val_acc: 0.9400\n",
            "Epoch 89/100\n",
            "100/100 [==============================] - 23s 233ms/step - loss: 0.0121 - acc: 0.9980 - val_loss: 0.3999 - val_acc: 0.9330\n",
            "Epoch 90/100\n",
            "100/100 [==============================] - 23s 233ms/step - loss: 0.0027 - acc: 0.9985 - val_loss: 0.4336 - val_acc: 0.9360\n",
            "Epoch 91/100\n",
            "100/100 [==============================] - 23s 234ms/step - loss: 0.0021 - acc: 0.9990 - val_loss: 0.4308 - val_acc: 0.9340\n",
            "Epoch 92/100\n",
            "100/100 [==============================] - 24s 235ms/step - loss: 0.0013 - acc: 1.0000 - val_loss: 0.4059 - val_acc: 0.9370\n",
            "Epoch 93/100\n",
            "100/100 [==============================] - 23s 235ms/step - loss: 0.0011 - acc: 0.9995 - val_loss: 0.3974 - val_acc: 0.9340\n",
            "Epoch 94/100\n",
            "100/100 [==============================] - 24s 235ms/step - loss: 0.0021 - acc: 0.9995 - val_loss: 0.3770 - val_acc: 0.9370\n",
            "Epoch 95/100\n",
            "100/100 [==============================] - 23s 235ms/step - loss: 0.0046 - acc: 0.9985 - val_loss: 0.3976 - val_acc: 0.9350\n",
            "Epoch 96/100\n",
            "100/100 [==============================] - 24s 241ms/step - loss: 0.0059 - acc: 0.9985 - val_loss: 0.4105 - val_acc: 0.9360\n",
            "Epoch 97/100\n",
            "100/100 [==============================] - 24s 236ms/step - loss: 0.0034 - acc: 0.9995 - val_loss: 0.3975 - val_acc: 0.9380\n",
            "Epoch 98/100\n",
            "100/100 [==============================] - 24s 236ms/step - loss: 7.6716e-04 - acc: 0.9995 - val_loss: 0.4190 - val_acc: 0.9310\n",
            "Epoch 99/100\n",
            "100/100 [==============================] - 24s 236ms/step - loss: 0.0025 - acc: 0.9990 - val_loss: 0.4980 - val_acc: 0.9230\n",
            "Epoch 100/100\n",
            "100/100 [==============================] - 24s 236ms/step - loss: 8.7172e-04 - acc: 0.9995 - val_loss: 0.3923 - val_acc: 0.9370\n"
          ]
        }
      ]
    },
    {
      "cell_type": "code",
      "source": [
        "model.save('cats_and_dogs_small_4.h5')"
      ],
      "metadata": {
        "id": "sj43kKXJI_Y7"
      },
      "execution_count": 23,
      "outputs": []
    },
    {
      "cell_type": "code",
      "source": [
        "acc = history.history['acc']\n",
        "val_acc = history.history['val_acc']\n",
        "loss = history.history['loss']\n",
        "val_loss = history.history['val_loss']\n",
        "\n",
        "epochs = range(len(acc))\n",
        "\n",
        "plt.plot(epochs, acc, 'bo', label='Training acc')\n",
        "plt.plot(epochs, val_acc, 'b', label='Validation acc')\n",
        "plt.title('Training and validation accuracy')\n",
        "plt.legend()\n",
        "\n",
        "plt.figure()\n",
        "\n",
        "plt.plot(epochs, loss, 'bo', label='Training loss')\n",
        "plt.plot(epochs, val_loss, 'b', label='Validation loss')\n",
        "plt.title('Training and validation loss')\n",
        "plt.legend()\n",
        "\n",
        "plt.show()"
      ],
      "metadata": {
        "colab": {
          "base_uri": "https://localhost:8080/",
          "height": 545
        },
        "id": "jwakLrZ1JA76",
        "outputId": "bff31f9a-5588-43c2-d862-3af65fba4bb7"
      },
      "execution_count": 24,
      "outputs": [
        {
          "output_type": "display_data",
          "data": {
            "image/png": "[encoded data removed]",
            "text/plain": [
              "<Figure size 432x288 with 1 Axes>"
            ]
          },
          "metadata": {
            "needs_background": "light"
          }
        },
        {
          "output_type": "display_data",
          "data": {
            "image/png": "[encoded data removed]",
            "text/plain": [
              "<Figure size 432x288 with 1 Axes>"
            ]
          },
          "metadata": {
            "needs_background": "light"
          }
        }
      ]
    },
    {
      "cell_type": "code",
      "source": [
        "def smooth_curve(points, factor=0.8):\n",
        "  smoothed_points = []\n",
        "  for point in points:\n",
        "    if smoothed_points:\n",
        "      previous = smoothed_points[-1]\n",
        "      smoothed_points.append(previous * factor + point * (1 - factor))\n",
        "    else:\n",
        "      smoothed_points.append(point)\n",
        "  return smoothed_points\n",
        "\n",
        "plt.plot(epochs,\n",
        "         smooth_curve(acc), 'bo', label='Smoothed training acc')\n",
        "plt.plot(epochs,\n",
        "         smooth_curve(val_acc), 'b', label='Smoothed validation acc')\n",
        "plt.title('Training and validation accuracy')\n",
        "plt.legend()\n",
        "\n",
        "plt.figure()\n",
        "\n",
        "plt.plot(epochs,\n",
        "         smooth_curve(loss), 'bo', label='Smoothed training loss')\n",
        "plt.plot(epochs,\n",
        "         smooth_curve(val_loss), 'b', label='Smoothed validation loss')\n",
        "plt.title('Training and validation loss')\n",
        "plt.legend()\n",
        "\n",
        "plt.show()"
      ],
      "metadata": {
        "colab": {
          "base_uri": "https://localhost:8080/",
          "height": 545
        },
        "id": "fHvRRk_FJBCy",
        "outputId": "613e5ec1-1348-4a03-c5b6-aa7b925f3ed2"
      },
      "execution_count": 25,
      "outputs": [
        {
          "output_type": "display_data",
          "data": {
            "image/png": "[encoded data removed]",
            "text/plain": [
              "<Figure size 432x288 with 1 Axes>"
            ]
          },
          "metadata": {
            "needs_background": "light"
          }
        },
        {
          "output_type": "display_data",
          "data": {
            "image/png": "[encoded data removed]",
            "text/plain": [
              "<Figure size 432x288 with 1 Axes>"
            ]
          },
          "metadata": {
            "needs_background": "light"
          }
        }
      ]
    },
    {
      "cell_type": "code",
      "source": [
        "test_generator = test_datagen.flow_from_directory(\n",
        "        test_dir,\n",
        "        target_size=(150, 150),\n",
        "        batch_size=20,\n",
        "        class_mode='binary')\n",
        "\n",
        "test_loss, test_acc = model.evaluate_generator(test_generator, steps=50)\n",
        "print('test acc:', test_acc)"
      ],
      "metadata": {
        "colab": {
          "base_uri": "https://localhost:8080/"
        },
        "id": "zXozi8VGJFE6",
        "outputId": "95c57601-a9a4-4861-bb43-197565f9e2a1"
      },
      "execution_count": 26,
      "outputs": [
        {
          "output_type": "stream",
          "name": "stdout",
          "text": [
            "Found 1000 images belonging to 2 classes.\n"
          ]
        },
        {
          "output_type": "stream",
          "name": "stderr",
          "text": [
            "/usr/local/lib/python3.7/dist-packages/ipykernel_launcher.py:7: UserWarning: `Model.evaluate_generator` is deprecated and will be removed in a future version. Please use `Model.evaluate`, which supports generators.\n",
            "  import sys\n"
          ]
        },
        {
          "output_type": "stream",
          "name": "stdout",
          "text": [
            "test acc: 0.9399999976158142\n"
          ]
        }
      ]
    },
    {
      "cell_type": "code",
      "source": [
        "test_list = []\n",
        "if test_list:\n",
        "  print(\"1\")\n",
        "else:\n",
        "  print(\"2\")"
      ],
      "metadata": {
        "colab": {
          "base_uri": "https://localhost:8080/"
        },
        "id": "Pp9WVtaLWN6o",
        "outputId": "e2a60b82-f33d-4520-da0b-4436fd92186d"
      },
      "execution_count": 29,
      "outputs": [
        {
          "output_type": "stream",
          "name": "stdout",
          "text": [
            "2\n"
          ]
        }
      ]
    },
    {
      "cell_type": "markdown",
      "source": [
        "###손실 곡선은 악화되었지만 정확도는 올라가는 이유\n",
        "\n",
        "그래프는 개별적인 손실 값의 평균을 그린 것이지만 정확도에 영향을 미치는 것은 손실 값의 분포이기 때문\n"
      ],
      "metadata": {
        "id": "d1bd_USXWUV-"
      }
    }
  ]
}