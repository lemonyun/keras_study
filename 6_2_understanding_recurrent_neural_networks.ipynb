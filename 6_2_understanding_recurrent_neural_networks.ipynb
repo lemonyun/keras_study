{
  "nbformat": 4,
  "nbformat_minor": 0,
  "metadata": {
    "colab": {
      "name": "6.2-understanding-recurrent-neural-networks.ipynb",
      "provenance": [],
      "collapsed_sections": [],
      "authorship_tag": "ABX9TyPCJ50g1s2hsLZJpBQu9I5V",
      "include_colab_link": true
    },
    "kernelspec": {
      "name": "python3",
      "display_name": "Python 3"
    },
    "language_info": {
      "name": "python"
    }
  },
  "cells": [
    {
      "cell_type": "markdown",
      "metadata": {
        "id": "view-in-github",
        "colab_type": "text"
      },
      "source": [
        "<a href=\"https://colab.research.google.com/github/lemonyun/keras_study/blob/main/6_2_understanding_recurrent_neural_networks.ipynb\" target=\"_parent\"><img src=\"https://colab.research.google.com/assets/colab-badge.svg\" alt=\"Open In Colab\"/></a>"
      ]
    },
    {
      "cell_type": "code",
      "execution_count": 1,
      "metadata": {
        "colab": {
          "base_uri": "https://localhost:8080/",
          "height": 35
        },
        "id": "-WfLsr9v0GVS",
        "outputId": "573287ff-e929-4c54-e3fb-b0bcf706ff4f"
      },
      "outputs": [
        {
          "output_type": "execute_result",
          "data": {
            "application/vnd.google.colaboratory.intrinsic+json": {
              "type": "string"
            },
            "text/plain": [
              "'2.8.0'"
            ]
          },
          "metadata": {},
          "execution_count": 1
        }
      ],
      "source": [
        "import keras\n",
        "keras.__version__"
      ]
    },
    {
      "cell_type": "markdown",
      "source": [
        "# 순환 신경망 (RNN)"
      ],
      "metadata": {
        "id": "JtTk-XDR0L-b"
      }
    },
    {
      "cell_type": "markdown",
      "source": [
        "순환 신경망은 내부에 루프를 가진 신경망의 한 종류\n",
        "\n",
        "피드포워드 네트워크는 완전 연결 신경망과 합성곱 신경망을 포함"
      ],
      "metadata": {
        "id": "ZcPghxsM0Ob0"
      }
    },
    {
      "cell_type": "code",
      "source": [
        "from keras.layers import SimpleRNN"
      ],
      "metadata": {
        "id": "9Ogb7FAP1AYw"
      },
      "execution_count": 2,
      "outputs": []
    },
    {
      "cell_type": "code",
      "source": [
        "from keras.models import Sequential\n",
        "from keras.layers import Embedding, SimpleRNN\n",
        "\n",
        "model = Sequential()\n",
        "model.add(Embedding(10000, 32))\n",
        "model.add(SimpleRNN(32))\n",
        "model.summary()"
      ],
      "metadata": {
        "colab": {
          "base_uri": "https://localhost:8080/"
        },
        "id": "RsgPbuVQ6gKE",
        "outputId": "133c8019-0f8d-4989-b527-bf5f3941c4de"
      },
      "execution_count": 3,
      "outputs": [
        {
          "output_type": "stream",
          "name": "stdout",
          "text": [
            "Model: \"sequential\"\n",
            "_________________________________________________________________\n",
            " Layer (type)                Output Shape              Param #   \n",
            "=================================================================\n",
            " embedding (Embedding)       (None, None, 32)          320000    \n",
            "                                                                 \n",
            " simple_rnn (SimpleRNN)      (None, 32)                2080      \n",
            "                                                                 \n",
            "=================================================================\n",
            "Total params: 322,080\n",
            "Trainable params: 322,080\n",
            "Non-trainable params: 0\n",
            "_________________________________________________________________\n"
          ]
        }
      ]
    },
    {
      "cell_type": "markdown",
      "source": [
        "SimpleRNN이 한 가지 다른 점은 넘파이 예제처럼 하나의 시퀀스가 아니라 다른 케라스 층과 마찬가지로 시퀀스 배치를 처리한다는 것입니다. 즉, (timesteps, input_features) 크기가 아니라 (batch_size, timesteps, input_features) 크기의 입력을 받습니다."
      ],
      "metadata": {
        "id": "UrS4lHH37Cju"
      }
    },
    {
      "cell_type": "markdown",
      "source": [
        "SimpleRNN은 두 가지 모드로 실행할 수 있습니다. \n",
        "\n",
        "1. 각 타임스텝의 출력을 모은 전체 시퀀스를 반환하거나(크기가 (batch_size, timesteps, output_features)인 3D 텐서)\n",
        "\n",
        "2. 입력 시퀀스에 대한 마지막 출력만 반환할 수 있습니다(크기가 (batch_size, output_features)인 2D 텐서). "
      ],
      "metadata": {
        "id": "c2hPFfV96nKa"
      }
    },
    {
      "cell_type": "code",
      "source": [
        "from keras.models import Sequential\n",
        "from keras.layers import Embedding, SimpleRNN\n",
        "\n",
        "model = Sequential()\n",
        "model.add(Embedding(10000, 32))\n",
        "model.add(SimpleRNN(32)) # 마지막 타임스텝의 출력만 반환\n",
        "model.summary()"
      ],
      "metadata": {
        "colab": {
          "base_uri": "https://localhost:8080/"
        },
        "id": "uRDkTQPdC1Kg",
        "outputId": "f27a290f-d794-463c-9b7a-e580313da40f"
      },
      "execution_count": 4,
      "outputs": [
        {
          "output_type": "stream",
          "name": "stdout",
          "text": [
            "Model: \"sequential_1\"\n",
            "_________________________________________________________________\n",
            " Layer (type)                Output Shape              Param #   \n",
            "=================================================================\n",
            " embedding_1 (Embedding)     (None, None, 32)          320000    \n",
            "                                                                 \n",
            " simple_rnn_1 (SimpleRNN)    (None, 32)                2080      \n",
            "                                                                 \n",
            "=================================================================\n",
            "Total params: 322,080\n",
            "Trainable params: 322,080\n",
            "Non-trainable params: 0\n",
            "_________________________________________________________________\n"
          ]
        }
      ]
    },
    {
      "cell_type": "markdown",
      "source": [
        "32 * 32 * 2 + 32 = 2080"
      ],
      "metadata": {
        "id": "PupmUpmmDeZP"
      }
    },
    {
      "cell_type": "code",
      "source": [
        "model = Sequential()\n",
        "model.add(Embedding(10000, 32))\n",
        "model.add(SimpleRNN(32, return_sequences=True)) # 전체 시퀀스를 반환\n",
        "model.summary()"
      ],
      "metadata": {
        "colab": {
          "base_uri": "https://localhost:8080/"
        },
        "id": "g0BR4WtZC4rp",
        "outputId": "9a62a49f-3bb8-4cc0-fa8d-cd00992f629c"
      },
      "execution_count": 5,
      "outputs": [
        {
          "output_type": "stream",
          "name": "stdout",
          "text": [
            "Model: \"sequential_2\"\n",
            "_________________________________________________________________\n",
            " Layer (type)                Output Shape              Param #   \n",
            "=================================================================\n",
            " embedding_2 (Embedding)     (None, None, 32)          320000    \n",
            "                                                                 \n",
            " simple_rnn_2 (SimpleRNN)    (None, None, 32)          2080      \n",
            "                                                                 \n",
            "=================================================================\n",
            "Total params: 322,080\n",
            "Trainable params: 322,080\n",
            "Non-trainable params: 0\n",
            "_________________________________________________________________\n"
          ]
        }
      ]
    },
    {
      "cell_type": "code",
      "source": [
        "model = Sequential()\n",
        "model.add(Embedding(10000, 32))\n",
        "model.add(SimpleRNN(32, return_sequences=True))\n",
        "model.add(SimpleRNN(32, return_sequences=True))\n",
        "model.add(SimpleRNN(32, return_sequences=True))\n",
        "model.add(SimpleRNN(32))  # 맨 위 층만 마지막 출력을 반환합니다.\n",
        "model.summary()"
      ],
      "metadata": {
        "colab": {
          "base_uri": "https://localhost:8080/"
        },
        "id": "1_z-4LbQC610",
        "outputId": "70eededa-4997-40cb-f4ba-0790f4d4c217"
      },
      "execution_count": 6,
      "outputs": [
        {
          "output_type": "stream",
          "name": "stdout",
          "text": [
            "Model: \"sequential_3\"\n",
            "_________________________________________________________________\n",
            " Layer (type)                Output Shape              Param #   \n",
            "=================================================================\n",
            " embedding_3 (Embedding)     (None, None, 32)          320000    \n",
            "                                                                 \n",
            " simple_rnn_3 (SimpleRNN)    (None, None, 32)          2080      \n",
            "                                                                 \n",
            " simple_rnn_4 (SimpleRNN)    (None, None, 32)          2080      \n",
            "                                                                 \n",
            " simple_rnn_5 (SimpleRNN)    (None, None, 32)          2080      \n",
            "                                                                 \n",
            " simple_rnn_6 (SimpleRNN)    (None, 32)                2080      \n",
            "                                                                 \n",
            "=================================================================\n",
            "Total params: 328,320\n",
            "Trainable params: 328,320\n",
            "Non-trainable params: 0\n",
            "_________________________________________________________________\n"
          ]
        }
      ]
    },
    {
      "cell_type": "code",
      "source": [
        "from keras.datasets import imdb\n",
        "from keras.preprocessing import sequence\n",
        "\n",
        "max_features = 10000  # 특성으로 사용할 단어의 수\n",
        "maxlen = 500  # 사용할 텍스트의 길이(가장 빈번한 max_features 개의 단어만 사용합니다)\n",
        "batch_size = 32\n",
        "\n",
        "print('데이터 로딩...')\n",
        "(input_train, y_train), (input_test, y_test) = imdb.load_data(num_words=max_features)\n",
        "print(len(input_train), '훈련 시퀀스')\n",
        "print(len(input_test), '테스트 시퀀스')\n",
        "\n",
        "print('시퀀스 패딩 (samples x time)')\n",
        "input_train = sequence.pad_sequences(input_train, maxlen=maxlen)\n",
        "input_test = sequence.pad_sequences(input_test, maxlen=maxlen)\n",
        "print('input_train 크기:', input_train.shape)\n",
        "print('input_test 크기:', input_test.shape)"
      ],
      "metadata": {
        "colab": {
          "base_uri": "https://localhost:8080/"
        },
        "id": "3ZX9K4QSEO3M",
        "outputId": "9b06bcb1-6fd7-41e3-a362-2b8fab538927"
      },
      "execution_count": 7,
      "outputs": [
        {
          "output_type": "stream",
          "name": "stdout",
          "text": [
            "데이터 로딩...\n",
            "Downloading data from https://storage.googleapis.com/tensorflow/tf-keras-datasets/imdb.npz\n",
            "17465344/17464789 [==============================] - 0s 0us/step\n",
            "17473536/17464789 [==============================] - 0s 0us/step\n",
            "25000 훈련 시퀀스\n",
            "25000 테스트 시퀀스\n",
            "시퀀스 패딩 (samples x time)\n",
            "input_train 크기: (25000, 500)\n",
            "input_test 크기: (25000, 500)\n"
          ]
        }
      ]
    },
    {
      "cell_type": "code",
      "source": [
        "from keras.layers import Dense\n",
        "\n",
        "model = Sequential()\n",
        "model.add(Embedding(max_features, 32))\n",
        "model.add(SimpleRNN(32))\n",
        "model.add(Dense(1, activation='sigmoid'))\n",
        "\n",
        "model.compile(optimizer='rmsprop', loss='binary_crossentropy', metrics=['acc'])\n",
        "history = model.fit(input_train, y_train,\n",
        "                    epochs=10,\n",
        "                    batch_size=128,\n",
        "                    validation_split=0.2)"
      ],
      "metadata": {
        "colab": {
          "base_uri": "https://localhost:8080/"
        },
        "id": "SSH1knstEQR1",
        "outputId": "8ac284d8-b19f-4a22-999a-54c500b04af2"
      },
      "execution_count": 8,
      "outputs": [
        {
          "output_type": "stream",
          "name": "stdout",
          "text": [
            "Epoch 1/10\n",
            "157/157 [==============================] - 28s 170ms/step - loss: 0.6010 - acc: 0.6692 - val_loss: 0.4384 - val_acc: 0.8174\n",
            "Epoch 2/10\n",
            "157/157 [==============================] - 27s 172ms/step - loss: 0.3752 - acc: 0.8444 - val_loss: 0.3900 - val_acc: 0.8276\n",
            "Epoch 3/10\n",
            "157/157 [==============================] - 26s 168ms/step - loss: 0.3092 - acc: 0.8773 - val_loss: 0.3780 - val_acc: 0.8348\n",
            "Epoch 4/10\n",
            "157/157 [==============================] - 27s 174ms/step - loss: 0.2451 - acc: 0.9058 - val_loss: 0.3542 - val_acc: 0.8464\n",
            "Epoch 5/10\n",
            "157/157 [==============================] - 27s 173ms/step - loss: 0.2072 - acc: 0.9209 - val_loss: 0.3651 - val_acc: 0.8634\n",
            "Epoch 6/10\n",
            "157/157 [==============================] - 26s 168ms/step - loss: 0.1565 - acc: 0.9423 - val_loss: 0.5156 - val_acc: 0.7922\n",
            "Epoch 7/10\n",
            "157/157 [==============================] - 27s 170ms/step - loss: 0.1119 - acc: 0.9609 - val_loss: 0.4399 - val_acc: 0.8492\n",
            "Epoch 8/10\n",
            "157/157 [==============================] - 27s 171ms/step - loss: 0.0878 - acc: 0.9706 - val_loss: 0.5001 - val_acc: 0.8294\n",
            "Epoch 9/10\n",
            "157/157 [==============================] - 27s 169ms/step - loss: 0.0611 - acc: 0.9808 - val_loss: 0.5602 - val_acc: 0.7970\n",
            "Epoch 10/10\n",
            "157/157 [==============================] - 28s 178ms/step - loss: 0.0465 - acc: 0.9856 - val_loss: 0.5496 - val_acc: 0.8366\n"
          ]
        }
      ]
    },
    {
      "cell_type": "code",
      "source": [
        "import matplotlib.pyplot as plt"
      ],
      "metadata": {
        "id": "1KbOLtX4ETtN"
      },
      "execution_count": 9,
      "outputs": []
    },
    {
      "cell_type": "code",
      "source": [
        "acc = history.history['acc']\n",
        "val_acc = history.history['val_acc']\n",
        "loss = history.history['loss']\n",
        "val_loss = history.history['val_loss']\n",
        "\n",
        "epochs = range(1, len(acc) + 1)\n",
        "\n",
        "plt.plot(epochs, acc, 'bo', label='Training acc')\n",
        "plt.plot(epochs, val_acc, 'b', label='Validation acc')\n",
        "plt.title('Training and validation accuracy')\n",
        "plt.legend()\n",
        "\n",
        "plt.figure()\n",
        "\n",
        "plt.plot(epochs, loss, 'bo', label='Training loss')\n",
        "plt.plot(epochs, val_loss, 'b', label='Validation loss')\n",
        "plt.title('Training and validation loss')\n",
        "plt.legend()\n",
        "\n",
        "plt.show()"
      ],
      "metadata": {
        "colab": {
          "base_uri": "https://localhost:8080/",
          "height": 545
        },
        "id": "pzhlcS4tEo8S",
        "outputId": "cc72c2bd-5f63-4fef-a3fa-4a50e91ac0dc"
      },
      "execution_count": 10,
      "outputs": [
        {
          "output_type": "display_data",
          "data": {
            "image/png": "[encoded data removed]",
            "text/plain": [
              "<Figure size 432x288 with 1 Axes>"
            ]
          },
          "metadata": {
            "needs_background": "light"
          }
        },
        {
          "output_type": "display_data",
          "data": {
            "image/png": "[encoded data removed]",
            "text/plain": [
              "<Figure size 432x288 with 1 Axes>"
            ]
          },
          "metadata": {
            "needs_background": "light"
          }
        }
      ]
    },
    {
      "cell_type": "markdown",
      "source": [
        "결과가 안좋은 이유는 SimpleRNN이 텍스트처럼 긴 시퀀스를 처리하는데 적합하지 않기 때문입니다. 더 잘 작동하는 다른 순환 층이 있습니다. 조금 더 고급 순환 층을 살펴보죠"
      ],
      "metadata": {
        "id": "rhWU6j9SEpvX"
      }
    },
    {
      "cell_type": "code",
      "source": [
        "from keras.layers import LSTM\n",
        "\n",
        "model = Sequential()\n",
        "model.add(Embedding(max_features, 32))\n",
        "model.add(LSTM(32))\n",
        "model.add(Dense(1, activation='sigmoid'))\n",
        "\n",
        "model.compile(optimizer='rmsprop',\n",
        "              loss='binary_crossentropy',\n",
        "              metrics=['acc'])\n",
        "history = model.fit(input_train, y_train,\n",
        "                    epochs=10,\n",
        "                    batch_size=128,\n",
        "                    validation_split=0.2)"
      ],
      "metadata": {
        "colab": {
          "base_uri": "https://localhost:8080/"
        },
        "id": "5l3hOX8PIfHD",
        "outputId": "2302754d-f9e8-4415-f34a-81e29a324ca9"
      },
      "execution_count": 11,
      "outputs": [
        {
          "output_type": "stream",
          "name": "stdout",
          "text": [
            "Epoch 1/10\n",
            "157/157 [==============================] - 67s 413ms/step - loss: 0.5241 - acc: 0.7569 - val_loss: 0.3475 - val_acc: 0.8626\n",
            "Epoch 2/10\n",
            "157/157 [==============================] - 57s 360ms/step - loss: 0.3151 - acc: 0.8812 - val_loss: 0.3196 - val_acc: 0.8826\n",
            "Epoch 3/10\n",
            "157/157 [==============================] - 57s 364ms/step - loss: 0.2360 - acc: 0.9137 - val_loss: 0.3024 - val_acc: 0.8812\n",
            "Epoch 4/10\n",
            "157/157 [==============================] - 60s 385ms/step - loss: 0.2038 - acc: 0.9255 - val_loss: 0.4477 - val_acc: 0.8548\n",
            "Epoch 5/10\n",
            "157/157 [==============================] - 56s 358ms/step - loss: 0.1826 - acc: 0.9336 - val_loss: 0.3428 - val_acc: 0.8654\n",
            "Epoch 6/10\n",
            "157/157 [==============================] - 57s 361ms/step - loss: 0.1625 - acc: 0.9424 - val_loss: 0.5205 - val_acc: 0.8468\n",
            "Epoch 7/10\n",
            "157/157 [==============================] - 56s 358ms/step - loss: 0.1481 - acc: 0.9471 - val_loss: 0.4501 - val_acc: 0.8342\n",
            "Epoch 8/10\n",
            "157/157 [==============================] - 57s 361ms/step - loss: 0.1410 - acc: 0.9505 - val_loss: 0.3248 - val_acc: 0.8676\n",
            "Epoch 9/10\n",
            "157/157 [==============================] - 57s 362ms/step - loss: 0.1278 - acc: 0.9568 - val_loss: 0.3213 - val_acc: 0.8836\n",
            "Epoch 10/10\n",
            "157/157 [==============================] - 58s 368ms/step - loss: 0.1160 - acc: 0.9602 - val_loss: 0.7990 - val_acc: 0.8044\n"
          ]
        }
      ]
    },
    {
      "cell_type": "markdown",
      "source": [
        "생각보다 성능이 그렇게 좋진 않은데 그러한데는 이유가 있음\n",
        "\n",
        "일단 하이퍼파라미터 튜닝을 하지 않았고\n",
        "\n",
        "규제가 없음\n",
        "\n",
        "리뷰를 전체적으로 길게 분석하는 것(LSTM이 잘하는 일)은 감성 분류 문제에 도움이 되지 않음 .. 감성 문제는 어떤 단어가 얼마나 등장하고 나타나는지가 중요하기 때문\n",
        "(완전 연결 네트워크가 사용한 방법)\n",
        "\n",
        "LSTM은 질문-응답, 기계번역과 같은 분야에서 능력을 발휘함"
      ],
      "metadata": {
        "id": "vBHLx3wDIiQ9"
      }
    },
    {
      "cell_type": "code",
      "source": [
        "acc = history.history['acc']\n",
        "val_acc = history.history['val_acc']\n",
        "loss = history.history['loss']\n",
        "val_loss = history.history['val_loss']\n",
        "\n",
        "epochs = range(1, len(acc) + 1)\n",
        "\n",
        "plt.plot(epochs, acc, 'bo', label='Training acc')\n",
        "plt.plot(epochs, val_acc, 'b', label='Validation acc')\n",
        "plt.title('Training and validation accuracy')\n",
        "plt.legend()\n",
        "\n",
        "plt.figure()\n",
        "\n",
        "plt.plot(epochs, loss, 'bo', label='Training loss')\n",
        "plt.plot(epochs, val_loss, 'b', label='Validation loss')\n",
        "plt.title('Training and validation loss')\n",
        "plt.legend()\n",
        "\n",
        "plt.show()"
      ],
      "metadata": {
        "colab": {
          "base_uri": "https://localhost:8080/",
          "height": 545
        },
        "id": "Bif5V0tENFDQ",
        "outputId": "3ed5a9f4-126a-48bb-c87e-b95476508e78"
      },
      "execution_count": 12,
      "outputs": [
        {
          "output_type": "display_data",
          "data": {
            "image/png": "[encoded data removed]",
            "text/plain": [
              "<Figure size 432x288 with 1 Axes>"
            ]
          },
          "metadata": {
            "needs_background": "light"
          }
        },
        {
          "output_type": "display_data",
          "data": {
            "image/png": "[encoded data removed]",
            "text/plain": [
              "<Figure size 432x288 with 1 Axes>"
            ]
          },
          "metadata": {
            "needs_background": "light"
          }
        }
      ]
    },
    {
      "cell_type": "code",
      "source": [
        ""
      ],
      "metadata": {
        "id": "e2z5y9qDQSSx"
      },
      "execution_count": null,
      "outputs": []
    }
  ]
}